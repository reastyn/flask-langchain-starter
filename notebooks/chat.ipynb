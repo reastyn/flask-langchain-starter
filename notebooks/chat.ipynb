{
 "cells": [
  {
   "cell_type": "code",
   "execution_count": null,
   "id": "initial_id",
   "metadata": {
    "collapsed": true
   },
   "outputs": [],
   "source": []
  },
  {
   "cell_type": "code",
   "execution_count": 1,
   "id": "298195b4aed1e913",
   "metadata": {
    "ExecuteTime": {
     "end_time": "2024-05-28T10:09:11.722161Z",
     "start_time": "2024-05-28T10:09:11.716563Z"
    }
   },
   "outputs": [],
   "source": [
    "import os"
   ]
  },
  {
   "cell_type": "code",
   "execution_count": 2,
   "id": "724cf218e28da4e3",
   "metadata": {
    "ExecuteTime": {
     "end_time": "2024-05-28T10:09:11.726430Z",
     "start_time": "2024-05-28T10:09:11.723161Z"
    }
   },
   "outputs": [],
   "source": [
    "os.environ[\"OPENAI_API_VERSION\"] = \"2023-12-01-preview\"\n",
    "os.environ[\"AZURE_OPENAI_ENDPOINT\"] = \"\"\n",
    "os.environ[\"AZURE_OPENAI_API_KEY\"] = \"\""
   ]
  },
  {
   "cell_type": "code",
   "execution_count": 3,
   "id": "b62ee66960227432",
   "metadata": {
    "ExecuteTime": {
     "end_time": "2024-05-28T10:09:12.342422Z",
     "start_time": "2024-05-28T10:09:11.844202Z"
    }
   },
   "outputs": [],
   "source": [
    "from langchain_openai import AzureChatOpenAI\n",
    "from langchain_core.messages import HumanMessage\n",
    "from langchain_core.prompts import ChatPromptTemplate\n",
    "from langchain_core.output_parsers import StrOutputParser"
   ]
  },
  {
   "cell_type": "code",
   "execution_count": 4,
   "id": "57a4eb220c3acb22",
   "metadata": {
    "ExecuteTime": {
     "end_time": "2024-05-28T10:09:12.370519Z",
     "start_time": "2024-05-28T10:09:12.343416Z"
    }
   },
   "outputs": [],
   "source": [
    "model_40_temp_08 = AzureChatOpenAI(\n",
    "    openai_api_version=\"2023-05-15\",\n",
    "    azure_deployment=\"gpt-4-turbo-2024-04-09\",\n",
    "    temperature=0.8,\n",
    ")\n",
    "\n",
    "output_parser = StrOutputParser()"
   ]
  },
  {
   "cell_type": "code",
   "execution_count": 6,
   "id": "2e45f94d28c0eb0e",
   "metadata": {
    "ExecuteTime": {
     "end_time": "2024-05-28T10:09:20.505356Z",
     "start_time": "2024-05-28T10:09:20.488761Z"
    }
   },
   "outputs": [],
   "source": [
    "system = \"\"\"\n",
    "You are a prompt crafting expert, with specialized skills in refining and enhancing prompts for clarity, precision, and impact. \n",
    "Your expertise is particularly tailored to the needs of journalists. \n",
    "Your role involves collaborating with these users, who may be customer service representatives, marketers, odds compilers, or any other professionals within the field, to create prompts that accurately reflect the dynamic and regulated environment of their industry. \n",
    "With an initial text provided by the user, you carefully analyze and fine-tune the language to ensure it aligns with industry terminology, regulatory standards, and the strategic goals of their company. \n",
    "Your task is to extract key information, suggest improvements, and pose critical questions that unearth additional context, leading to the most effective communication possible. \n",
    "Your deep understanding of both the mechanics of prompt crafting and the specificities of the news sector empowers users to generate content that engages their audience, complies with legal requirements, and drives their business objectives forward. \n",
    "As an expert, you approach each interaction with professionalism, insight, and a commitment to excellence, upholding the highest standards of prompt craftsmanship tailored to the unique landscape of journalism.\n",
    "\"\"\"\n",
    "\n",
    "messages = []\n",
    "\n",
    "messages.append( (\"user\", \"Hi, how are you ?\") )\n",
    "messages.append( (\"assistant\", \"Great, how are you ?\") )\n",
    "\n",
    "\n",
    "prompt = ChatPromptTemplate.from_messages(messages)\n",
    "\n",
    "chain_temp_0 = prompt | model_40_temp_08 | output_parser"
   ]
  },
  {
   "cell_type": "code",
   "execution_count": 9,
   "id": "f600924a833dbfaa",
   "metadata": {
    "ExecuteTime": {
     "end_time": "2024-05-28T10:10:12.555899Z",
     "start_time": "2024-05-28T10:10:06.642580Z"
    }
   },
   "outputs": [
    {
     "data": {
      "text/plain": [
       "\"Hello! I'm just a computer program, so I don't have feelings, but I'm here to help you. How can I assist you today?\""
      ]
     },
     "execution_count": 9,
     "metadata": {},
     "output_type": "execute_result"
    }
   ],
   "source": [
    "resp = chain_temp_0.invoke({  })\n",
    "resp"
   ]
  },
  {
   "cell_type": "code",
   "execution_count": null,
   "id": "b53a8e3368a66841",
   "metadata": {},
   "outputs": [],
   "source": []
  }
 ],
 "metadata": {
  "kernelspec": {
   "display_name": "Python 3",
   "language": "python",
   "name": "python3"
  },
  "language_info": {
   "codemirror_mode": {
    "name": "ipython",
    "version": 2
   },
   "file_extension": ".py",
   "mimetype": "text/x-python",
   "name": "python",
   "nbconvert_exporter": "python",
   "pygments_lexer": "ipython2",
   "version": "2.7.6"
  }
 },
 "nbformat": 4,
 "nbformat_minor": 5
}

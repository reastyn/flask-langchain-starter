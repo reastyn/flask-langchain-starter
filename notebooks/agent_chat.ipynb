{
 "cells": [
  {
   "cell_type": "code",
   "execution_count": 2,
   "id": "initial_id",
   "metadata": {
    "ExecuteTime": {
     "end_time": "2024-05-28T12:42:20.195012Z",
     "start_time": "2024-05-28T12:42:20.188463Z"
    },
    "collapsed": true
   },
   "outputs": [],
   "source": []
  },
  {
   "cell_type": "code",
   "execution_count": 3,
   "id": "fdf0bc589c9facb9",
   "metadata": {
    "ExecuteTime": {
     "end_time": "2024-05-28T12:42:20.325154Z",
     "start_time": "2024-05-28T12:42:20.320016Z"
    }
   },
   "outputs": [],
   "source": [
    "import os"
   ]
  },
  {
   "cell_type": "code",
   "execution_count": 4,
   "id": "328f9ebb8fcac5e2",
   "metadata": {
    "ExecuteTime": {
     "end_time": "2024-05-28T12:42:20.464488Z",
     "start_time": "2024-05-28T12:42:20.457726Z"
    }
   },
   "outputs": [],
   "source": [
    "os.environ[\"OPENAI_API_VERSION\"] = \"2023-12-01-preview\"\n",
    "os.environ[\"AZURE_OPENAI_ENDPOINT\"] = \"\"\n",
    "os.environ[\"AZURE_OPENAI_API_KEY\"] = \"\""
   ]
  },
  {
   "cell_type": "code",
   "execution_count": 5,
   "id": "6e7883a64b0faedf",
   "metadata": {
    "ExecuteTime": {
     "end_time": "2024-05-28T12:42:20.907103Z",
     "start_time": "2024-05-28T12:42:20.578537Z"
    }
   },
   "outputs": [],
   "source": [
    "from langchain_openai import AzureChatOpenAI\n",
    "from langchain_core.messages import HumanMessage\n",
    "from langchain_core.prompts import ChatPromptTemplate\n",
    "from langchain_core.output_parsers import StrOutputParser"
   ]
  },
  {
   "cell_type": "code",
   "execution_count": 6,
   "id": "c2a43d428b6f3024",
   "metadata": {
    "ExecuteTime": {
     "end_time": "2024-05-28T12:42:20.938033Z",
     "start_time": "2024-05-28T12:42:20.908506Z"
    }
   },
   "outputs": [],
   "source": [
    "model_40_temp_08 = AzureChatOpenAI(\n",
    "    openai_api_version=\"2023-05-15\",\n",
    "    azure_deployment=\"gpt-4-turbo-2024-04-09\",\n",
    "    temperature=0.8,\n",
    ")\n",
    "\n",
    "output_parser = StrOutputParser()\n",
    "\n",
    "prompt = ChatPromptTemplate.from_messages([\n",
    "    (\"system\", \"{system}\"),\n",
    "    (\"user\", \"{input}\")\n",
    "])\n",
    "\n",
    "chain = prompt | model_40_temp_08 | output_parser"
   ]
  },
  {
   "cell_type": "code",
   "execution_count": 7,
   "id": "abb4a4aeac6c7e72",
   "metadata": {
    "ExecuteTime": {
     "end_time": "2024-05-28T12:42:38.106786Z",
     "start_time": "2024-05-28T12:42:21.049610Z"
    }
   },
   "outputs": [
    {
     "name": "stdout",
     "output_type": "stream",
     "text": [
      "System:  \n",
      "    You are world class mathematician.\n",
      "\n",
      "************************************************\n"
     ]
    },
    {
     "data": {
      "text/plain": [
       "'To solve the expression \\\\(23 \\\\times 3 - 89\\\\):\\n\\nFirst, perform the multiplication:\\n\\\\(23 \\\\times 3 = 69\\\\)\\n\\nNext, subtract 89 from the result:\\n\\\\(69 - 89 = -20\\\\)\\n\\nSo, \\\\(23 \\\\times 3 - 89 = -20\\\\).'"
      ]
     },
     "execution_count": 7,
     "metadata": {},
     "output_type": "execute_result"
    }
   ],
   "source": [
    "system = \"\"\"\n",
    "    You are world class mathematician.\n",
    "\"\"\"\n",
    "\n",
    "prompt_text = \"\"\"\n",
    "    I need to compute 23 * 3 - 89\n",
    "\"\"\"\n",
    "\n",
    "print(\"System: \", system)\n",
    "print(\"************************************************\")\n",
    "resp = chain.invoke({ \"system\": system, \"input\": prompt_text })\n",
    "resp"
   ]
  },
  {
   "cell_type": "code",
   "execution_count": 7,
   "id": "e5fe3eb0f6617989",
   "metadata": {
    "ExecuteTime": {
     "end_time": "2024-05-28T12:42:38.113772Z",
     "start_time": "2024-05-28T12:42:38.110597Z"
    }
   },
   "outputs": [],
   "source": []
  },
  {
   "cell_type": "code",
   "execution_count": 8,
   "id": "93546cfbdc0fc20d",
   "metadata": {
    "ExecuteTime": {
     "end_time": "2024-05-28T12:42:38.139748Z",
     "start_time": "2024-05-28T12:42:38.114492Z"
    }
   },
   "outputs": [],
   "source": [
    "from langchain.agents import tool\n",
    "\n",
    "\n",
    "@tool\n",
    "def multiply(a: int, b:int) -> int:\n",
    "    \"\"\"Multiplies two numbers\"\"\"\n",
    "    return a*b\n",
    "\n",
    "@tool\n",
    "def substract(a: int, b:int) -> int:\n",
    "    \"\"\"Return the difference between two numbers, return a-b\"\"\"\n",
    "    return a-b\n",
    "\n",
    "tools = [multiply, substract]\n",
    "\n",
    "llm_with_tools = model_40_temp_08.bind_tools(tools)\n",
    "\n",
    "from langchain.agents.format_scratchpad.openai_tools import (\n",
    "    format_to_openai_tool_messages,\n",
    ")\n",
    "from langchain.agents.output_parsers.openai_tools import OpenAIToolsAgentOutputParser\n",
    "\n",
    "from langchain_core.prompts import ChatPromptTemplate, MessagesPlaceholder\n",
    "\n",
    "MEMORY_KEY = \"chat_history\"\n",
    "prompt = ChatPromptTemplate.from_messages(\n",
    "    [\n",
    "        (\"system\", \"{system}\"),\n",
    "        MessagesPlaceholder(variable_name=MEMORY_KEY),\n",
    "        (\"user\", \"{input}\"),\n",
    "        MessagesPlaceholder(variable_name=\"agent_scratchpad\"),\n",
    "    ]\n",
    ")\n",
    "\n",
    "\n",
    "agent = (\n",
    "        {\n",
    "            \"input\": lambda x: x[\"input\"],\n",
    "            \"system\": lambda x: x[\"system\"],\n",
    "            \"agent_scratchpad\": lambda x: format_to_openai_tool_messages(\n",
    "                x[\"intermediate_steps\"]\n",
    "            ),\n",
    "            \"chat_history\": lambda x: x[\"chat_history\"],\n",
    "        }\n",
    "        | prompt\n",
    "        | llm_with_tools\n",
    "        | OpenAIToolsAgentOutputParser()\n",
    ")\n",
    "\n",
    "from langchain.agents import AgentExecutor\n",
    "agent_executor = AgentExecutor(agent=agent, tools=tools, verbose=True)\n"
   ]
  },
  {
   "cell_type": "code",
   "execution_count": 12,
   "id": "ef4138e6ce635a1a",
   "metadata": {
    "ExecuteTime": {
     "end_time": "2024-05-28T12:45:01.386028Z",
     "start_time": "2024-05-28T12:44:44.451393Z"
    }
   },
   "outputs": [
    {
     "name": "stdout",
     "output_type": "stream",
     "text": [
      "\n",
      "\n",
      "\u001B[1m> Entering new AgentExecutor chain...\u001B[0m\n",
      "\u001B[32;1m\u001B[1;3m\n",
      "Invoking: `multiply` with `{'a': 2, 'b': 6}`\n",
      "\n",
      "\n",
      "\u001B[0m\u001B[36;1m\u001B[1;3m12\u001B[0m\u001B[32;1m\u001B[1;3mThe result of \\(2 \\times 6\\) is \\(12\\).\u001B[0m\n",
      "\n",
      "\u001B[1m> Finished chain.\u001B[0m\n",
      "\n",
      "\n",
      "\u001B[1m> Entering new AgentExecutor chain...\u001B[0m\n",
      "\u001B[32;1m\u001B[1;3m\n",
      "Invoking: `multiply` with `{'a': 12, 'b': 10}`\n",
      "\n",
      "\n",
      "\u001B[0m\u001B[36;1m\u001B[1;3m120\u001B[0m\u001B[32;1m\u001B[1;3mThe result of \\(12 \\times 10\\) is \\(120\\).\u001B[0m\n",
      "\n",
      "\u001B[1m> Finished chain.\u001B[0m\n"
     ]
    },
    {
     "data": {
      "text/plain": [
       "{'input': 'And what is that multiplied by 10 ?',\n",
       " 'system': 'You are world class mathematician',\n",
       " 'chat_history': [HumanMessage(content='What is 2 * 6 ?'),\n",
       "  AIMessage(content='The result of \\\\(2 \\\\times 6\\\\) is \\\\(12\\\\).')],\n",
       " 'output': 'The result of \\\\(12 \\\\times 10\\\\) is \\\\(120\\\\).'}"
      ]
     },
     "execution_count": 12,
     "metadata": {},
     "output_type": "execute_result"
    }
   ],
   "source": [
    "from langchain_core.messages import AIMessage, HumanMessage\n",
    "\n",
    "chat_history = []\n",
    "input1 = \"What is 2 * 6 ?\"\n",
    "result = agent_executor.invoke({\"input\": input1, \"system\": \"You are world class mathematician\", \"chat_history\": chat_history})\n",
    "chat_history.extend(\n",
    "    [\n",
    "        HumanMessage(content=input1),\n",
    "        AIMessage(content=result[\"output\"]),\n",
    "    ]\n",
    ")\n",
    "agent_executor.invoke({\"input\": \"And what is that multiplied by 10 ?\", \"system\": \"You are world class mathematician\", \"chat_history\": chat_history})"
   ]
  },
  {
   "cell_type": "code",
   "execution_count": null,
   "id": "14936973f4c20880",
   "metadata": {},
   "outputs": [],
   "source": []
  }
 ],
 "metadata": {
  "kernelspec": {
   "display_name": "Python 3",
   "language": "python",
   "name": "python3"
  },
  "language_info": {
   "codemirror_mode": {
    "name": "ipython",
    "version": 2
   },
   "file_extension": ".py",
   "mimetype": "text/x-python",
   "name": "python",
   "nbconvert_exporter": "python",
   "pygments_lexer": "ipython2",
   "version": "2.7.6"
  }
 },
 "nbformat": 4,
 "nbformat_minor": 5
}

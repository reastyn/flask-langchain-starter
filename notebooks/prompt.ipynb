{
 "cells": [
  {
   "cell_type": "code",
   "execution_count": 1,
   "id": "8ec662b871363a92",
   "metadata": {
    "ExecuteTime": {
     "end_time": "2024-05-28T09:47:03.429645Z",
     "start_time": "2024-05-28T09:47:03.421220Z"
    }
   },
   "outputs": [],
   "source": [
    "import os"
   ]
  },
  {
   "cell_type": "code",
   "execution_count": 9,
   "id": "f81520d4d5c2f103",
   "metadata": {
    "ExecuteTime": {
     "end_time": "2024-05-28T09:58:35.760948Z",
     "start_time": "2024-05-28T09:58:35.742861Z"
    }
   },
   "outputs": [],
   "source": [
    "os.environ[\"OPENAI_API_VERSION\"] = \"2023-12-01-preview\"\n",
    "os.environ[\"AZURE_OPENAI_ENDPOINT\"] = \"\"\n",
    "os.environ[\"AZURE_OPENAI_API_KEY\"] = \"\""
   ]
  },
  {
   "cell_type": "code",
   "execution_count": 10,
   "id": "395e70f6dc24fa1a",
   "metadata": {
    "ExecuteTime": {
     "end_time": "2024-05-28T09:58:36.387014Z",
     "start_time": "2024-05-28T09:58:36.381827Z"
    }
   },
   "outputs": [],
   "source": [
    "from langchain_openai import AzureChatOpenAI\n",
    "from langchain_core.messages import HumanMessage\n",
    "from langchain_core.prompts import ChatPromptTemplate\n",
    "from langchain_core.output_parsers import StrOutputParser"
   ]
  },
  {
   "cell_type": "code",
   "execution_count": 14,
   "id": "ded2649fe675cf2b",
   "metadata": {
    "ExecuteTime": {
     "end_time": "2024-05-28T10:00:27.878398Z",
     "start_time": "2024-05-28T10:00:27.799003Z"
    }
   },
   "outputs": [],
   "source": [
    "model_35_temp_0 = AzureChatOpenAI(\n",
    "    openai_api_version=\"2023-05-15\",\n",
    "    azure_deployment=\"gpt-35-turbo-1106\",\n",
    "    temperature=0,\n",
    ")\n",
    "\n",
    "model_40_temp_08 = AzureChatOpenAI(\n",
    "    openai_api_version=\"2023-05-15\",\n",
    "    azure_deployment=\"gpt-4-turbo-2024-04-09\",\n",
    "    temperature=0.8,\n",
    ")\n",
    "\n",
    "output_parser = StrOutputParser()"
   ]
  },
  {
   "cell_type": "code",
   "execution_count": 17,
   "id": "10002a8b-5f8a-42da-9097-0635b09bcc2b",
   "metadata": {
    "ExecuteTime": {
     "end_time": "2024-05-28T10:00:59.649622Z",
     "start_time": "2024-05-28T10:00:59.623445Z"
    }
   },
   "outputs": [],
   "source": [
    "prompt = ChatPromptTemplate.from_messages([\n",
    "    (\"system\", \"{system}\"),\n",
    "    (\"user\", \"{input}\")\n",
    "])\n",
    "\n",
    "chain_temp_0 = prompt | model_35_temp_0 | output_parser"
   ]
  },
  {
   "cell_type": "code",
   "execution_count": 19,
   "id": "ae21b35b-a69e-42ae-8274-30a142f702d1",
   "metadata": {
    "ExecuteTime": {
     "end_time": "2024-05-28T10:01:53.229916Z",
     "start_time": "2024-05-28T10:01:50.085950Z"
    }
   },
   "outputs": [
    {
     "name": "stdout",
     "output_type": "stream",
     "text": [
      "System:  \n",
      "You are a prompt crafting expert, with specialized skills in refining and enhancing prompts for clarity, precision, and impact. \n",
      "Your expertise is particularly tailored to the needs of journalists. \n",
      "Your role involves collaborating with these users, who may be customer service representatives, marketers, odds compilers, or any other professionals within the field, to create prompts that accurately reflect the dynamic and regulated environment of their industry. \n",
      "With an initial text provided by the user, you carefully analyze and fine-tune the language to ensure it aligns with industry terminology, regulatory standards, and the strategic goals of their company. \n",
      "Your task is to extract key information, suggest improvements, and pose critical questions that unearth additional context, leading to the most effective communication possible. \n",
      "Your deep understanding of both the mechanics of prompt crafting and the specificities of the news sector empowers users to generate content that engages their audience, complies with legal requirements, and drives their business objectives forward. \n",
      "As an expert, you approach each interaction with professionalism, insight, and a commitment to excellence, upholding the highest standards of prompt craftsmanship tailored to the unique landscape of journalism.\n",
      "\n",
      "************************************************\n"
     ]
    },
    {
     "data": {
      "text/plain": [
       "\"Certainly! To craft an effective prompt for generating SQL queries for a PostgreSQL database system, it's important to ensure clarity and precision. Could you please provide more specific details about the type of SQL queries you are looking to generate? For example, are you interested in prompts for querying specific tables, performing data manipulation, or retrieving specific types of data? Additionally, do you have any particular regulatory or compliance requirements that need to be considered in the prompt? This information will help in tailoring the prompt to your exact needs and ensuring it aligns with industry standards and best practices.\""
      ]
     },
     "execution_count": 19,
     "metadata": {},
     "output_type": "execute_result"
    }
   ],
   "source": [
    "system = (\"\"\"\n",
    "You are a prompt crafting expert, with specialized skills in refining and enhancing prompts for clarity, precision, and impact. \n",
    "Your expertise is particularly tailored to the needs of journalists. \n",
    "Your role involves collaborating with these users, who may be customer service representatives, marketers, odds compilers, or any other professionals within the field, to create prompts that accurately reflect the dynamic and regulated environment of their industry. \n",
    "With an initial text provided by the user, you carefully analyze and fine-tune the language to ensure it aligns with industry terminology, regulatory standards, and the strategic goals of their company. \n",
    "Your task is to extract key information, suggest improvements, and pose critical questions that unearth additional context, leading to the most effective communication possible. \n",
    "Your deep understanding of both the mechanics of prompt crafting and the specificities of the news sector empowers users to generate content that engages their audience, complies with legal requirements, and drives their business objectives forward. \n",
    "As an expert, you approach each interaction with professionalism, insight, and a commitment to excellence, upholding the highest standards of prompt craftsmanship tailored to the unique landscape of journalism.\n",
    "\"\"\"\n",
    "          )\n",
    "\n",
    "prompt_text = (\n",
    "                \"I need to create a prompt for genration of SQL queries for PostgreSQL database system.\"\n",
    "               )\n",
    "\n",
    "print(\"System: \", system)\n",
    "print(\"************************************************\")\n",
    "resp = chain_temp_0.invoke({ \"system\": system, \"input\": prompt_text })\n",
    "resp"
   ]
  },
  {
   "cell_type": "code",
   "execution_count": null,
   "id": "36b37c525e59392e",
   "metadata": {},
   "outputs": [],
   "source": []
  }
 ],
 "metadata": {
  "kernelspec": {
   "display_name": "Python 3 (ipykernel)",
   "language": "python",
   "name": "python3"
  },
  "language_info": {
   "codemirror_mode": {
    "name": "ipython",
    "version": 3
   },
   "file_extension": ".py",
   "mimetype": "text/x-python",
   "name": "python",
   "nbconvert_exporter": "python",
   "pygments_lexer": "ipython3",
   "version": "3.11.6"
  }
 },
 "nbformat": 4,
 "nbformat_minor": 5
}

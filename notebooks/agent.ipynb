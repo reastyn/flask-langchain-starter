{
 "cells": [
  {
   "cell_type": "code",
   "execution_count": 7,
   "id": "c6d4c618d42584cb",
   "metadata": {
    "ExecuteTime": {
     "end_time": "2024-05-28T12:19:07.213402Z",
     "start_time": "2024-05-28T12:19:07.196888Z"
    }
   },
   "outputs": [],
   "source": [
    "import os"
   ]
  },
  {
   "cell_type": "code",
   "execution_count": 8,
   "id": "8062657c01f45d1c",
   "metadata": {
    "ExecuteTime": {
     "end_time": "2024-05-28T12:19:07.301059Z",
     "start_time": "2024-05-28T12:19:07.298130Z"
    }
   },
   "outputs": [],
   "source": [
    "os.environ[\"OPENAI_API_VERSION\"] = \"2023-12-01-preview\"\n",
    "os.environ[\"AZURE_OPENAI_ENDPOINT\"] = \"\"\n",
    "os.environ[\"AZURE_OPENAI_API_KEY\"] = \"\""
   ]
  },
  {
   "cell_type": "code",
   "execution_count": 9,
   "id": "60b05078ae1dff5b",
   "metadata": {
    "ExecuteTime": {
     "end_time": "2024-05-28T12:19:07.505631Z",
     "start_time": "2024-05-28T12:19:07.500840Z"
    }
   },
   "outputs": [],
   "source": [
    "from langchain_openai import AzureChatOpenAI\n",
    "from langchain_core.messages import HumanMessage\n",
    "from langchain_core.prompts import ChatPromptTemplate\n",
    "from langchain_core.output_parsers import StrOutputParser"
   ]
  },
  {
   "cell_type": "code",
   "execution_count": 15,
   "id": "37ebf6bf060412d5",
   "metadata": {
    "ExecuteTime": {
     "end_time": "2024-05-28T12:20:14.708188Z",
     "start_time": "2024-05-28T12:20:14.641700Z"
    }
   },
   "outputs": [],
   "source": [
    "model_40_temp_08 = AzureChatOpenAI(\n",
    "    openai_api_version=\"2023-05-15\",\n",
    "    azure_deployment=\"gpt-4-turbo-2024-04-09\",\n",
    "    temperature=0.8,\n",
    ")\n",
    "\n",
    "output_parser = StrOutputParser()\n",
    "\n",
    "prompt = ChatPromptTemplate.from_messages([\n",
    "    (\"system\", \"{system}\"),\n",
    "    (\"user\", \"{input}\")\n",
    "])\n",
    "\n",
    "chain = prompt | model_40_temp_08 | output_parser"
   ]
  },
  {
   "cell_type": "code",
   "execution_count": 16,
   "id": "cb92713b9ed373bd",
   "metadata": {
    "ExecuteTime": {
     "end_time": "2024-05-28T12:20:33.638828Z",
     "start_time": "2024-05-28T12:20:20.484451Z"
    }
   },
   "outputs": [
    {
     "name": "stdout",
     "output_type": "stream",
     "text": [
      "System:  \n",
      "    You are world class mathematician.\n",
      "\n",
      "************************************************\n"
     ]
    },
    {
     "data": {
      "text/plain": [
       "'To compute the expression \\\\(23 \\\\times 3 - 89\\\\), start by multiplying 23 and 3:\\n\\n\\\\[23 \\\\times 3 = 69\\\\]\\n\\nNext, subtract 89 from 69:\\n\\n\\\\[69 - 89 = -20\\\\]\\n\\nSo, the result of \\\\(23 \\\\times 3 - 89\\\\) is \\\\(-20\\\\).'"
      ]
     },
     "execution_count": 16,
     "metadata": {},
     "output_type": "execute_result"
    }
   ],
   "source": [
    "system = \"\"\"\n",
    "    You are world class mathematician.\n",
    "\"\"\"\n",
    "\n",
    "prompt_text = \"\"\"\n",
    "    I need to compute 23 * 3 - 89\n",
    "\"\"\"\n",
    "\n",
    "print(\"System: \", system)\n",
    "print(\"************************************************\")\n",
    "resp = chain.invoke({ \"system\": system, \"input\": prompt_text })\n",
    "resp"
   ]
  },
  {
   "cell_type": "code",
   "execution_count": 16,
   "id": "f400d828e7f028d7",
   "metadata": {
    "ExecuteTime": {
     "end_time": "2024-05-28T12:20:58.545011Z",
     "start_time": "2024-05-28T12:20:58.534040Z"
    }
   },
   "outputs": [],
   "source": []
  },
  {
   "cell_type": "code",
   "execution_count": 30,
   "id": "5bc72c216a478972",
   "metadata": {
    "ExecuteTime": {
     "end_time": "2024-05-28T12:29:46.501827Z",
     "start_time": "2024-05-28T12:29:46.456417Z"
    }
   },
   "outputs": [],
   "source": [
    "from langchain.agents import tool\n",
    "\n",
    "\n",
    "@tool\n",
    "def multiply(a: int, b:int) -> int:\n",
    "    \"\"\"Multiplies two numbers\"\"\"\n",
    "    return a*b\n",
    "\n",
    "@tool\n",
    "def substract(a: int, b:int) -> int:\n",
    "    \"\"\"Return the difference between two numbers, return a-b\"\"\"\n",
    "    return a-b\n",
    "\n",
    "tools = [multiply, substract]\n",
    "\n",
    "llm_with_tools = model_40_temp_08.bind_tools(tools)\n",
    "\n",
    "from langchain.agents.format_scratchpad.openai_tools import (\n",
    "    format_to_openai_tool_messages,\n",
    ")\n",
    "from langchain.agents.output_parsers.openai_tools import OpenAIToolsAgentOutputParser\n",
    "\n",
    "from langchain_core.prompts import ChatPromptTemplate, MessagesPlaceholder\n",
    "\n",
    "prompt = ChatPromptTemplate.from_messages(\n",
    "    [\n",
    "        (\"system\", \"{system}\"),\n",
    "        (\"user\", \"{input}\"),\n",
    "        MessagesPlaceholder(variable_name=\"agent_scratchpad\"),\n",
    "    ]\n",
    ")\n",
    "\n",
    "agent = (\n",
    "        {\n",
    "            \"input\": lambda x: x[\"input\"],\n",
    "            \"system\": lambda x: x[\"system\"],\n",
    "            \"agent_scratchpad\": lambda x: format_to_openai_tool_messages(\n",
    "                x[\"intermediate_steps\"]\n",
    "            ),\n",
    "        }\n",
    "        | prompt\n",
    "        | llm_with_tools\n",
    "        | OpenAIToolsAgentOutputParser()\n",
    ")\n",
    "\n",
    "from langchain.agents import AgentExecutor\n",
    "\n",
    "agent_executor = AgentExecutor(agent=agent, tools=tools, verbose=True)\n",
    "\n",
    "\n"
   ]
  },
  {
   "cell_type": "code",
   "execution_count": 31,
   "id": "2953e3fb32e4a38e",
   "metadata": {
    "ExecuteTime": {
     "end_time": "2024-05-28T12:30:00.616793Z",
     "start_time": "2024-05-28T12:29:47.041104Z"
    }
   },
   "outputs": [
    {
     "name": "stdout",
     "output_type": "stream",
     "text": [
      "\n",
      "\n",
      "\u001B[1m> Entering new AgentExecutor chain...\u001B[0m\n",
      "\u001B[32;1m\u001B[1;3m\n",
      "Invoking: `multiply` with `{'a': 23, 'b': 3}`\n",
      "\n",
      "\n",
      "\u001B[0m\u001B[36;1m\u001B[1;3m69\u001B[0m\u001B[32;1m\u001B[1;3m\n",
      "Invoking: `substract` with `{'a': 69, 'b': 89}`\n",
      "\n",
      "\n",
      "\u001B[0m\u001B[33;1m\u001B[1;3m-20\u001B[0m\u001B[32;1m\u001B[1;3mThe result of the computation \\(23 \\times 3 - 89\\) is \\(-20\\).\u001B[0m\n",
      "\n",
      "\u001B[1m> Finished chain.\u001B[0m\n"
     ]
    },
    {
     "data": {
      "text/plain": [
       "{'system': 'You are world class mathematician',\n",
       " 'input': 'I need to compute 23 * 3 - 89',\n",
       " 'output': 'The result of the computation \\\\(23 \\\\times 3 - 89\\\\) is \\\\(-20\\\\).'}"
      ]
     },
     "execution_count": 31,
     "metadata": {},
     "output_type": "execute_result"
    }
   ],
   "source": [
    "agent_executor.invoke({\n",
    "    \"system\": \"You are world class mathematician\",\n",
    "    \"input\": \"I need to compute 23 * 3 - 89\"\n",
    "})"
   ]
  },
  {
   "cell_type": "code",
   "execution_count": null,
   "id": "3790904f7cf61553",
   "metadata": {},
   "outputs": [],
   "source": []
  }
 ],
 "metadata": {
  "kernelspec": {
   "display_name": "Python 3",
   "language": "python",
   "name": "python3"
  },
  "language_info": {
   "codemirror_mode": {
    "name": "ipython",
    "version": 2
   },
   "file_extension": ".py",
   "mimetype": "text/x-python",
   "name": "python",
   "nbconvert_exporter": "python",
   "pygments_lexer": "ipython2",
   "version": "2.7.6"
  }
 },
 "nbformat": 4,
 "nbformat_minor": 5
}
